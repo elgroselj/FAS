{
 "cells": [
  {
   "cell_type": "code",
   "execution_count": null,
   "metadata": {},
   "outputs": [],
   "source": [
    "%load_ext autoreload\n",
    "%autoreload 2\n",
    "#%pip install trueskill\n",
    "import sys\n",
    "print(sys.version)\n",
    "import networkx as nx\n",
    "import pickle\n",
    "import pandas as pd\n",
    "import matplotlib.pyplot as plt\n",
    "import time\n",
    "\n",
    "#from ..solvers import exact\n",
    "sys.path.append(\"..\")\n",
    "sys.path.append('../solvers')\n",
    "\n",
    "from helper_functions import draw_graph_with_FAS\n",
    "from helper_functions import introduce_cycles, generate_random_DAG, gen_graph_DAG, run\n",
    "\n",
    "#import solvers\n",
    "from solvers import exact, italjani\n",
    "from solvers import remove_cycle_edges_by_dfs\n",
    "from solvers import remove_cycle_edges_by_minimum_feedback_arc_set_greedy\n",
    "from solvers import remove_cycle_edges_by_minimum_feedback_arc_set_greedy_parallel\n",
    "from solvers import remove_cycle_edges_by_hierarchy\n",
    "#from solvers import exact"
   ]
  },
  {
   "cell_type": "code",
   "execution_count": null,
   "metadata": {},
   "outputs": [],
   "source": [
    "df_graphs = pd.read_csv('../components.csv')\n",
    "for line in df_graphs.iterrows():\n",
    "    with open('../' + line[1][3], 'rb') as f:\n",
    "        graph = pickle.load(f)\n",
    "        if graph.number_of_nodes() > 5 and graph.number_of_nodes() < 20:\n",
    "            print(line[1][3])\n",
    "            print(graph.number_of_nodes())\n",
    "            break\n",
    "#nx.draw(graph)\n",
    "#plt.show()"
   ]
  },
  {
   "cell_type": "code",
   "execution_count": null,
   "metadata": {},
   "outputs": [],
   "source": [
    "file_name = '../pickles/smallworld-0017-80-10-24.al_0.pickle'\n",
    "with open(file_name, 'rb') as f:\n",
    "    graph = pickle.load(f)\n",
    "    print(graph.number_of_nodes())\n",
    "    print(graph.number_of_edges())\n",
    "    nx.draw(graph, with_labels=True)\n",
    "    plt.show()\n",
    "    #print(graph.edges())\n",
    "    #print(graph.nodes"
   ]
  },
  {
   "cell_type": "code",
   "execution_count": null,
   "metadata": {},
   "outputs": [],
   "source": [
    "with open(file_name, 'rb') as f:\n",
    "    graph = pickle.load(f)\n",
    "    rez_exact = exact.exact_with_wcnf(graph)\n",
    "    "
   ]
  },
  {
   "cell_type": "code",
   "execution_count": null,
   "metadata": {},
   "outputs": [],
   "source": [
    "print(rez_exact)\n",
    "print(len(rez_exact))"
   ]
  },
  {
   "cell_type": "markdown",
   "metadata": {},
   "source": [
    "### Color the solution"
   ]
  },
  {
   "cell_type": "code",
   "execution_count": null,
   "metadata": {},
   "outputs": [],
   "source": [
    "with open(file_name, 'rb') as f:\n",
    "    graph = pickle.load(f)\n",
    "    draw_graph_with_FAS(graph, rez_exact)\n",
    "    '''print(graph.number_of_nodes())\n",
    "    print(graph.number_of_edges())\n",
    "    edge_colors = []\n",
    "\n",
    "    for u, v in graph.edges():\n",
    "        #print(u,v)\n",
    "        if (u,v) in rez_exact:\n",
    "            print(u,v)\n",
    "            edge_colors.append('r')\n",
    "        else:\n",
    "            edge_colors.append('b')\n",
    "    nx.draw(graph, edge_color=edge_colors, with_labels=True)\n",
    "    plt.show()'''"
   ]
  },
  {
   "cell_type": "markdown",
   "metadata": {},
   "source": [
    "## Heuristics"
   ]
  },
  {
   "cell_type": "code",
   "execution_count": null,
   "metadata": {},
   "outputs": [],
   "source": [
    "with open(file_name, 'rb') as f:\n",
    "    graph = pickle.load(f)\n",
    "    rez_i = italjani.get_some_FAS(graph)\n",
    "    draw_graph_with_FAS(graph, rez_i)\n",
    "    \n",
    "    graph2 = graph.copy()\n",
    "    for u,v in rez_i:\n",
    "        graph2.remove_edge(u,v)\n",
    "    print(nx.is_directed_acyclic_graph(graph2))\n",
    "    print(nx.is_directed_acyclic_graph(graph))"
   ]
  },
  {
   "cell_type": "code",
   "execution_count": null,
   "metadata": {},
   "outputs": [],
   "source": [
    "print(rez_i)\n",
    "print(len(rez_i))"
   ]
  },
  {
   "cell_type": "code",
   "execution_count": null,
   "metadata": {},
   "outputs": [],
   "source": [
    "with open(file_name, 'rb') as f:\n",
    "    graph = pickle.load(f)\n",
    "    rez_d = remove_cycle_edges_by_dfs.remove_edges_dfs(graph)"
   ]
  },
  {
   "cell_type": "code",
   "execution_count": null,
   "metadata": {},
   "outputs": [],
   "source": [
    "print(rez_d)\n",
    "print(len(rez_d))"
   ]
  },
  {
   "cell_type": "code",
   "execution_count": null,
   "metadata": {},
   "outputs": [],
   "source": [
    "with open(file_name, 'rb') as f:\n",
    "    graph = pickle.load(f)\n",
    "    rez_g = remove_cycle_edges_by_minimum_feedback_arc_set_greedy.remove_edges_FAS_greedy(graph)"
   ]
  },
  {
   "cell_type": "code",
   "execution_count": null,
   "metadata": {},
   "outputs": [],
   "source": [
    "print(rez_g)\n",
    "print(len(rez_g))"
   ]
  },
  {
   "cell_type": "code",
   "execution_count": null,
   "metadata": {},
   "outputs": [],
   "source": [
    "with open(file_name, 'rb') as f:\n",
    "    graph = pickle.load(f)\n",
    "    rez_gp = remove_cycle_edges_by_minimum_feedback_arc_set_greedy_parallel.remove_edges_FAS_greedy_parallel(graph)"
   ]
  },
  {
   "cell_type": "code",
   "execution_count": null,
   "metadata": {},
   "outputs": [],
   "source": [
    "print(rez_gp)\n",
    "print(len(rez_gp))"
   ]
  },
  {
   "cell_type": "code",
   "execution_count": null,
   "metadata": {},
   "outputs": [],
   "source": [
    "with open(file_name, 'rb') as f:\n",
    "    graph = pickle.load(f)\n",
    "    rez_page = remove_cycle_edges_by_hierarchy.remove_edges_hierarchy(graph, \"pagerank\", \"voting\")"
   ]
  },
  {
   "cell_type": "code",
   "execution_count": null,
   "metadata": {},
   "outputs": [],
   "source": [
    "print(rez_page)\n",
    "print(len(rez_page))"
   ]
  },
  {
   "cell_type": "code",
   "execution_count": null,
   "metadata": {},
   "outputs": [],
   "source": [
    "with open(file_name, 'rb') as f:\n",
    "    graph = pickle.load(f)\n",
    "    rez_ts = remove_cycle_edges_by_hierarchy.remove_edges_hierarchy(graph, \"trueskill\", \"voting\")"
   ]
  },
  {
   "cell_type": "code",
   "execution_count": null,
   "metadata": {},
   "outputs": [],
   "source": [
    "print(rez_ts)\n",
    "print(len(rez_ts))\n",
    "draw_graph_with_FAS(graph, rez_ts)"
   ]
  },
  {
   "cell_type": "markdown",
   "metadata": {},
   "source": [
    "## Generiranje grafov"
   ]
  },
  {
   "cell_type": "code",
   "execution_count": null,
   "metadata": {},
   "outputs": [],
   "source": [
    "G, cycles = gen_graph_DAG(20, c=4)\n",
    "#print(nx.is_directed_acyclic_graph(G))\n",
    "#print(cycles)\n",
    "e = [(cycle[i], cycle[(i+1) % len(cycle)]) for cycle in cycles for i in range(len(cycle))]\n",
    "\n",
    "G2 = G.copy()\n",
    "for u,v in e:\n",
    "    if G2.has_edge(u,v):\n",
    "        G2.remove_edge(u,v)\n",
    "print(nx.is_directed_acyclic_graph(G2))\n",
    "\n",
    "rez_exact = exact.exact_with_wcnf(G, cycles)\n",
    "rez_exact = list(map(lambda x: (int(x[0]), int(x[1])), rez_exact))\n",
    "\n",
    "#draw_graph_with_FAS(G, e)\n",
    "G3 = G.copy()\n",
    "for u,v in rez_exact:\n",
    "    G3.remove_edge(u,v)\n",
    "print(nx.is_directed_acyclic_graph(G3))\n",
    "#print(G.edges())\n",
    "#print(rez_exact)\n",
    "\n",
    "draw_graph_with_FAS(G, rez_exact)"
   ]
  },
  {
   "cell_type": "code",
   "execution_count": null,
   "metadata": {},
   "outputs": [],
   "source": [
    "for i in range(10):\n",
    "    start = time.time()\n",
    "    G, cycles = gen_graph_DAG(30, c=6)\n",
    "    e = [(cycle[i], cycle[(i+1) % len(cycle)]) for cycle in cycles for i in range(len(cycle))]\n",
    "    \n",
    "    G2 = G.copy()\n",
    "    for u,v in e:\n",
    "        if (u,v) in G2.edges():\n",
    "            G2.remove_edge(u,v)\n",
    "    rez = nx.is_directed_acyclic_graph(G2)\n",
    "    assert rez\n",
    "    \n",
    "    rez_exact = exact.exact_with_wcnf(G)\n",
    "    rez_exact = list(map(lambda x: (int(x[0]), int(x[1])), rez_exact))\n",
    "\n",
    "    rez_cycles = exact.exact_with_wcnf(G, cycles)\n",
    "    rez_cycles = list(map(lambda x: (int(x[0]), int(x[1])), rez_cycles))\n",
    "    #print(len(list(rez_exact)), len(list(rez_exact2)))\n",
    "    G3 = G.copy()\n",
    "    for u,v in rez_cycles:\n",
    "        G3.remove_edge(u,v)\n",
    "    r = nx.is_directed_acyclic_graph(G3)\n",
    "    rez_cycles_d = exact.exact_with_wcnf(G3)\n",
    "    rez_cycles_d = list(map(lambda x: (int(x[0]), int(x[1])), rez_cycles_d))\n",
    "    G4 = G3.copy()\n",
    "    for u,v in rez_cycles_d:\n",
    "        G4.remove_edge(u,v)\n",
    "    rez = nx.is_directed_acyclic_graph(G4)\n",
    "\n",
    "    #print(time.time() - start)\n",
    "    if not r:\n",
    "        print(rez)\n",
    "        print(len(rez_exact), len(rez_cycles), len(rez_cycles_d))\n",
    "        print(len(rez_exact), len(rez_exact2))\n",
    "        print(cycles)\n",
    "        print(list(nx.simple_cycles(G3)))\n",
    "        draw_graph_with_FAS(G, rez_exact)\n",
    "        break"
   ]
  },
  {
   "cell_type": "code",
   "execution_count": null,
   "metadata": {},
   "outputs": [],
   "source": [
    "G, cycles = gen_graph_DAG(30, c=6)\n",
    "#edges = [(cycle[i], cycle[(i+1) % len(cycle)]) for cycle in cycles for i in range(len(cycle))]\n",
    "cycles_edges = [[(cycle[i], cycle[(i+1) % len(cycle)]) for i in range(len(cycle))] for cycle in cycles]\n",
    "edges = {}\n",
    "\n",
    "for cycle_edges in cycles_edges:\n",
    "    for edge in cycle_edges:\n",
    "        #print(edge)\n",
    "        if edge in edges:\n",
    "            edges[edge] += 1\n",
    "        else:\n",
    "            edges[edge] = 1\n",
    "\n",
    "print(edges)\n",
    "removed = []\n",
    "while len(edges) != 0:\n",
    "    edges, cycles_edges, edge = run(edges, cycles_edges)\n",
    "    removed.append(edge)\n",
    "    \n",
    "G2 = G.copy()\n",
    "for u,v in removed:\n",
    "    if (u,v) in G2.edges():\n",
    "        G2.remove_edge(u,v)\n",
    "rez = nx.is_directed_acyclic_graph(G2)\n",
    "print(rez)\n",
    "    \n",
    "rez_exact = exact.exact_with_wcnf(G)\n",
    "rez_exact = list(map(lambda x: (int(x[0]), int(x[1])), rez_exact))"
   ]
  }
 ],
 "metadata": {
  "kernelspec": {
   "display_name": "Python 3",
   "language": "python",
   "name": "python3"
  },
  "language_info": {
   "codemirror_mode": {
    "name": "ipython",
    "version": 3
   },
   "file_extension": ".py",
   "mimetype": "text/x-python",
   "name": "python",
   "nbconvert_exporter": "python",
   "pygments_lexer": "ipython3",
   "version": "3.10.8"
  }
 },
 "nbformat": 4,
 "nbformat_minor": 2
}
