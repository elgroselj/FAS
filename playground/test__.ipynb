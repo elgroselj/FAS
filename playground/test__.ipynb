{
 "cells": [
  {
   "cell_type": "code",
   "execution_count": null,
   "metadata": {},
   "outputs": [],
   "source": [
    "%load_ext autoreload\n",
    "%autoreload 2\n",
    "#%pip install trueskill\n",
    "import sys\n",
    "print(sys.version)\n",
    "import networkx as nx\n",
    "import pickle\n",
    "import pandas as pd\n",
    "import matplotlib.pyplot as plt\n",
    "\n",
    "#from ..solvers import exact\n",
    "sys.path.append(\"..\")\n",
    "sys.path.append('../solvers')\n",
    "\n",
    "from helper_functions import draw_graph_with_FVS\n",
    "\n",
    "#import solvers\n",
    "from solvers import exact, italjani\n",
    "from solvers import remove_cycle_edges_by_dfs\n",
    "from solvers import remove_cycle_edges_by_minimum_feedback_arc_set_greedy\n",
    "from solvers import remove_cycle_edges_by_minimum_feedback_arc_set_greedy_parallel\n",
    "from solvers import remove_cycle_edges_by_hierarchy\n",
    "#from solvers import exact"
   ]
  },
  {
   "cell_type": "code",
   "execution_count": null,
   "metadata": {},
   "outputs": [],
   "source": [
    "df_graphs = pd.read_csv('../components.csv')\n",
    "for line in df_graphs.iterrows():\n",
    "    with open('../' + line[1][3], 'rb') as f:\n",
    "        graph = pickle.load(f)\n",
    "        if graph.number_of_nodes() > 5 and graph.number_of_nodes() < 20:\n",
    "            print(line[1][3])\n",
    "            print(graph.number_of_nodes())\n",
    "            break\n",
    "#nx.draw(graph)\n",
    "#plt.show()"
   ]
  },
  {
   "cell_type": "code",
   "execution_count": null,
   "metadata": {},
   "outputs": [],
   "source": [
    "file_name = '../pickles/smallworld-0017-80-10-24.al_0.pickle'\n",
    "with open(file_name, 'rb') as f:\n",
    "    graph = pickle.load(f)\n",
    "    print(graph.number_of_nodes())\n",
    "    print(graph.number_of_edges())\n",
    "    nx.draw(graph, with_labels=True)\n",
    "    plt.show()\n",
    "    #print(graph.edges())\n",
    "    #print(graph.nodes"
   ]
  },
  {
   "cell_type": "code",
   "execution_count": null,
   "metadata": {},
   "outputs": [],
   "source": [
    "with open(file_name, 'rb') as f:\n",
    "    graph = pickle.load(f)\n",
    "    rez_exact = exact.din(graph)\n",
    "    "
   ]
  },
  {
   "cell_type": "code",
   "execution_count": null,
   "metadata": {},
   "outputs": [],
   "source": [
    "print(rez_exact)\n",
    "print(len(rez_exact))"
   ]
  },
  {
   "cell_type": "markdown",
   "metadata": {},
   "source": [
    "### Color the solution"
   ]
  },
  {
   "cell_type": "code",
   "execution_count": null,
   "metadata": {},
   "outputs": [],
   "source": [
    "with open(file_name, 'rb') as f:\n",
    "    graph = pickle.load(f)\n",
    "    draw_graph_with_FVS(graph, rez_exact)\n",
    "    '''print(graph.number_of_nodes())\n",
    "    print(graph.number_of_edges())\n",
    "    edge_colors = []\n",
    "\n",
    "    for u, v in graph.edges():\n",
    "        #print(u,v)\n",
    "        if (u,v) in rez_exact:\n",
    "            print(u,v)\n",
    "            edge_colors.append('r')\n",
    "        else:\n",
    "            edge_colors.append('b')\n",
    "    nx.draw(graph, edge_color=edge_colors, with_labels=True)\n",
    "    plt.show()'''"
   ]
  },
  {
   "cell_type": "markdown",
   "metadata": {},
   "source": [
    "## Heuristics"
   ]
  },
  {
   "cell_type": "code",
   "execution_count": null,
   "metadata": {},
   "outputs": [],
   "source": [
    "with open(file_name, 'rb') as f:\n",
    "    graph = pickle.load(f)\n",
    "    rez_i = italjani.get_some_FAS(graph)\n",
    "    draw_graph_with_FVS(graph, rez_i)\n",
    "    \n",
    "    graph2 = graph.copy()\n",
    "    for u,v in rez_i:\n",
    "        graph2.remove_edge(u,v)\n",
    "    print(nx.is_directed_acyclic_graph(graph2))\n",
    "    print(nx.is_directed_acyclic_graph(graph))"
   ]
  },
  {
   "cell_type": "code",
   "execution_count": null,
   "metadata": {},
   "outputs": [],
   "source": [
    "print(rez_i)\n",
    "print(len(rez_i))"
   ]
  },
  {
   "cell_type": "code",
   "execution_count": null,
   "metadata": {},
   "outputs": [],
   "source": [
    "with open(file_name, 'rb') as f:\n",
    "    graph = pickle.load(f)\n",
    "    rez_d = remove_cycle_edges_by_dfs.remove_edges_dfs(graph)"
   ]
  },
  {
   "cell_type": "code",
   "execution_count": null,
   "metadata": {},
   "outputs": [],
   "source": [
    "print(rez_d)\n",
    "print(len(rez_d))"
   ]
  },
  {
   "cell_type": "code",
   "execution_count": null,
   "metadata": {},
   "outputs": [],
   "source": [
    "with open(file_name, 'rb') as f:\n",
    "    graph = pickle.load(f)\n",
    "    rez_g = remove_cycle_edges_by_minimum_feedback_arc_set_greedy.remove_edges_FAS_greedy(graph)"
   ]
  },
  {
   "cell_type": "code",
   "execution_count": null,
   "metadata": {},
   "outputs": [],
   "source": [
    "print(rez_g)\n",
    "print(len(rez_g))"
   ]
  },
  {
   "cell_type": "code",
   "execution_count": null,
   "metadata": {},
   "outputs": [],
   "source": [
    "with open(file_name, 'rb') as f:\n",
    "    graph = pickle.load(f)\n",
    "    rez_gp = remove_cycle_edges_by_minimum_feedback_arc_set_greedy_parallel.remove_edges_FAS_greedy_parallel(graph)"
   ]
  },
  {
   "cell_type": "code",
   "execution_count": null,
   "metadata": {},
   "outputs": [],
   "source": [
    "print(rez_gp)\n",
    "print(len(rez_gp))"
   ]
  },
  {
   "cell_type": "code",
   "execution_count": null,
   "metadata": {},
   "outputs": [],
   "source": [
    "with open(file_name, 'rb') as f:\n",
    "    graph = pickle.load(f)\n",
    "    rez_page = remove_cycle_edges_by_hierarchy.remove_edges_hierarchy(graph, \"pagerank\", \"voting\")"
   ]
  },
  {
   "cell_type": "code",
   "execution_count": null,
   "metadata": {},
   "outputs": [],
   "source": [
    "print(rez_page)\n",
    "print(len(rez_page))"
   ]
  },
  {
   "cell_type": "code",
   "execution_count": null,
   "metadata": {},
   "outputs": [],
   "source": [
    "with open(file_name, 'rb') as f:\n",
    "    graph = pickle.load(f)\n",
    "    rez_ts = remove_cycle_edges_by_hierarchy.remove_edges_hierarchy(graph, \"trueskill\", \"voting\")"
   ]
  },
  {
   "cell_type": "code",
   "execution_count": null,
   "metadata": {},
   "outputs": [],
   "source": [
    "print(rez_ts)\n",
    "print(len(rez_ts))"
   ]
  }
 ],
 "metadata": {
  "kernelspec": {
   "display_name": "Python 3",
   "language": "python",
   "name": "python3"
  },
  "language_info": {
   "codemirror_mode": {
    "name": "ipython",
    "version": 3
   },
   "file_extension": ".py",
   "mimetype": "text/x-python",
   "name": "python",
   "nbconvert_exporter": "python",
   "pygments_lexer": "ipython3",
   "version": "3.10.8"
  }
 },
 "nbformat": 4,
 "nbformat_minor": 2
}
