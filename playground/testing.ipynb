{
 "cells": [
  {
   "cell_type": "code",
   "execution_count": 5,
   "metadata": {},
   "outputs": [],
   "source": [
    "import networkx as nx\n",
    "import sys\n",
    "sys.path.append(\"/home/lema/Documents/aproks/FAS/\")\n",
    "from helper_functions import get_some_FAS\n",
    "from exact import din\n",
    "import glob\n",
    "import re"
   ]
  },
  {
   "cell_type": "code",
   "execution_count": 2,
   "metadata": {},
   "outputs": [],
   "source": [
    "examples = [\"../data/FASP-benchmarks/data/de-bruijn/debruijn-0001-2-2-4-6.al\"]"
   ]
  },
  {
   "cell_type": "code",
   "execution_count": 33,
   "metadata": {},
   "outputs": [
    {
     "name": "stdout",
     "output_type": "stream",
     "text": [
      "['../data/FASP-benchmarks/data/de-bruijn/debruijn-0001-2-2-4-6.al', '../data/FASP-benchmarks/data/de-bruijn/debruijn-0002-2-3-8-14.al', '../data/FASP-benchmarks/data/de-bruijn/debruijn-0003-2-4-16-30.al', '../data/FASP-benchmarks/data/de-bruijn/debruijn-0004-2-5-32-62.al', '../data/FASP-benchmarks/data/de-bruijn/debruijn-0005-2-6-64-126.al', '../data/FASP-benchmarks/data/de-bruijn/debruijn-0006-2-7-128-254.al', '../data/FASP-benchmarks/data/de-bruijn/debruijn-0007-2-8-256-510.al', '../data/FASP-benchmarks/data/de-bruijn/debruijn-0008-3-2-9-24.al', '../data/FASP-benchmarks/data/de-bruijn/debruijn-0009-3-3-27-78.al', '../data/FASP-benchmarks/data/de-bruijn/debruijn-0010-3-4-81-240.al', '../data/FASP-benchmarks/data/de-bruijn/debruijn-0011-3-5-243-726.al', '../data/FASP-benchmarks/data/de-bruijn/debruijn-0012-4-2-16-60.al', '../data/FASP-benchmarks/data/de-bruijn/debruijn-0013-4-3-64-252.al', '../data/FASP-benchmarks/data/de-bruijn/debruijn-0014-4-4-256-1020.al', '../data/FASP-benchmarks/data/de-bruijn/debruijn-0015-5-2-25-120.al', '../data/FASP-benchmarks/data/de-bruijn/debruijn-0016-5-3-125-620.al', '../data/FASP-benchmarks/data/de-bruijn/debruijn-0017-6-2-36-210.al', '../data/FASP-benchmarks/data/de-bruijn/debruijn-0018-6-3-216-1290.al', '../data/FASP-benchmarks/data/de-bruijn/debruijn-0019-7-2-49-336.al', '../data/FASP-benchmarks/data/de-bruijn/debruijn-0020-7-3-343-2394.al', '../data/FASP-benchmarks/data/de-bruijn/debruijn-0021-8-2-64-504.al', '../data/FASP-benchmarks/data/de-bruijn/debruijn-0022-9-2-81-720.al', '../data/FASP-benchmarks/data/de-bruijn/debruijn-0023-10-2-100-990.al']\n"
     ]
    }
   ],
   "source": [
    "graph_type = \"de-bruijn\"\n",
    "examples = glob.glob(f\"../data/FASP-benchmarks/data/{graph_type}/*.al\")"
   ]
  },
  {
   "cell_type": "code",
   "execution_count": 3,
   "metadata": {},
   "outputs": [
    {
     "data": {
      "text/plain": [
       "['/home/lema/Documents/aproks/FAS/data/FVScompetition/core/complete2.d',\n",
       " '/home/lema/Documents/aproks/FAS/data/FVScompetition/core/complete3.d',\n",
       " '/home/lema/Documents/aproks/FAS/data/FVScompetition/core/complete4.d',\n",
       " '/home/lema/Documents/aproks/FAS/data/FVScompetition/core/complete5.d',\n",
       " '/home/lema/Documents/aproks/FAS/data/FVScompetition/core/complete6.d',\n",
       " '/home/lema/Documents/aproks/FAS/data/FVScompetition/core/complete7.d',\n",
       " '/home/lema/Documents/aproks/FAS/data/FVScompetition/core/complete8.d',\n",
       " '/home/lema/Documents/aproks/FAS/data/FVScompetition/core/complete9.d']"
      ]
     },
     "execution_count": 3,
     "metadata": {},
     "output_type": "execute_result"
    }
   ],
   "source": [
    "graph_files  = [f\"/home/lema/Documents/aproks/FAS/data/FVScompetition/core/complete{i}.d\" for i in range(2,10)]\n",
    "examples\n",
    "    "
   ]
  },
  {
   "cell_type": "code",
   "execution_count": 37,
   "metadata": {},
   "outputs": [
    {
     "name": "stdout",
     "output_type": "stream",
     "text": [
      "['../data/snap/twitter_combined.txt']\n"
     ]
    }
   ],
   "source": [
    "# graph_name = \"twitter_combined\"\n",
    "# examples = glob.glob(f\"../data/snap/{graph_name}.txt\")\n",
    "# examples.sort()\n",
    "# print(examples)\n",
    "\n",
    "# nisem docakala"
   ]
  },
  {
   "cell_type": "code",
   "execution_count": 10,
   "metadata": {},
   "outputs": [],
   "source": [
    "# zastarelo => preoblikovano v read_graph_file v helper_functions\n",
    "\n",
    "# def test(fun,examples,verbose=True):\n",
    "#     # fun         function of G ex. lambda G : get_some_FAS(G)\n",
    "#     # examples  list of paths to graph representations\n",
    "    \n",
    "#     their = []\n",
    "#     our = []\n",
    "#     for example in examples:\n",
    "#         if verbose:\n",
    "#             print(example[-20:])\n",
    "            \n",
    "#         if example[-3:] == \".al\":\n",
    "#             # FASP-benchmarks format (adjency list)\n",
    "#             G = nx.read_adjlist(example,create_using=nx.DiGraph)\n",
    "#             try:\n",
    "#                 with open(example[:-3] + \".mfas\",\"r\") as file:\n",
    "#                     their_result = file.readlines()\n",
    "#                     their.append(their)\n",
    "#                     if verbose:\n",
    "#                         print(\"Their: \", len(their_result))\n",
    "#             except FileNotFoundError:\n",
    "#                 try:\n",
    "#                     with open(example[:-3] + \".mfas\",\"r\") as file:\n",
    "#                         their_result = file.readlines()\n",
    "#                     their.append(their)\n",
    "#                     if verbose:\n",
    "#                         print(\"Their: \", len(their_result))\n",
    "#                 except FileNotFoundError:\n",
    "#                     their.append(None)\n",
    "#                     if verbose:\n",
    "#                         print(\"Their: \", None)\n",
    "#         elif \"snap/\" in example:\n",
    "#             # SNAP format\n",
    "#             # nodeId.edges : [...] The 'ego' node does not appear, but it is assumed that they follow every node id that appears in this file.\n",
    "#             # adding ego node edges in not needed, as ego node is not part of any strongly connected component anyway\n",
    "            \n",
    "#             G = nx.DiGraph()\n",
    "#             with open(example, \"r\") as file:\n",
    "#                 if verbose:\n",
    "#                     print(\"INFO: Reading and adding edges from file ...\")\n",
    "#                 while True:            \n",
    "#                     line = file.readline()\n",
    "#                     if len(line) == 0:\n",
    "#                         break\n",
    "#                     v1, v2 = map(int, line.split(\" \"))\n",
    "#                     G.add_edge(v1,v2)\n",
    "#                 if verbose:\n",
    "#                     print(\"INFO: Done reading and adding edges from file.\")\n",
    "                    \n",
    "#             # no known results:\n",
    "#             their.append(None)\n",
    "            \n",
    "#         elif example[-2:] == \".d\":\n",
    "#             # DIMACS formar of FVS data\n",
    "#             G = nx.DiGraph()\n",
    "#             with open(example,\"r\") as f:\n",
    "#                 edge_num = int(f.readline().split(\" \")[3])\n",
    "#                 for e in range(edge_num):\n",
    "#                     v1,v2 = map(int,f.readline().split(\" \")[1:3])\n",
    "#                     G.add_edge(v1,v2)\n",
    "                    \n",
    "#             # no known results:\n",
    "#             their.append(None)\n",
    "            \n",
    "#         else:\n",
    "#             raise Exception(f\"Format '.{example.split('.')[-1]}' not supported.\")\n",
    "        \n",
    "        \n",
    "#         FAS = fun(G)\n",
    "#         our.append(FAS)\n",
    "#         if verbose:\n",
    "#             print(\"FAS size:\", len(FAS), \"\\n\")\n",
    "#     return our, their\n",
    "\n",
    "\n",
    "# def f(G):\n",
    "#     return get_some_FAS(G, sort_mode=\"ain\", dir_mode=\"f\", plot=False, verbose=False)\n",
    "# _, _  = test(f,examples)\n",
    "# print(\"----------------------------\")\n",
    "# print(examples)\n",
    "# _, _  = test(din,examples)\n",
    "\n",
    "        \n",
    "            "
   ]
  }
 ],
 "metadata": {
  "kernelspec": {
   "display_name": "Python 3",
   "language": "python",
   "name": "python3"
  },
  "language_info": {
   "codemirror_mode": {
    "name": "ipython",
    "version": 3
   },
   "file_extension": ".py",
   "mimetype": "text/x-python",
   "name": "python",
   "nbconvert_exporter": "python",
   "pygments_lexer": "ipython3",
   "version": "3.10.12"
  }
 },
 "nbformat": 4,
 "nbformat_minor": 2
}
