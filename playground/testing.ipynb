{
 "cells": [
  {
   "cell_type": "code",
   "execution_count": 1,
   "metadata": {},
   "outputs": [],
   "source": [
    "import networkx as nx\n",
    "import sys\n",
    "sys.path.append(\"/home/lema/Documents/aproks/FAS/\")\n",
    "from helper_functions import get_some_FAS\n",
    "import glob"
   ]
  },
  {
   "cell_type": "code",
   "execution_count": 4,
   "metadata": {},
   "outputs": [],
   "source": [
    "examples = [\"../data/FASP-benchmarks/data/de-bruijn/debruijn-0001-2-2-4-6.al\"]"
   ]
  },
  {
   "cell_type": "code",
   "execution_count": 33,
   "metadata": {},
   "outputs": [
    {
     "name": "stdout",
     "output_type": "stream",
     "text": [
      "['../data/FASP-benchmarks/data/de-bruijn/debruijn-0001-2-2-4-6.al', '../data/FASP-benchmarks/data/de-bruijn/debruijn-0002-2-3-8-14.al', '../data/FASP-benchmarks/data/de-bruijn/debruijn-0003-2-4-16-30.al', '../data/FASP-benchmarks/data/de-bruijn/debruijn-0004-2-5-32-62.al', '../data/FASP-benchmarks/data/de-bruijn/debruijn-0005-2-6-64-126.al', '../data/FASP-benchmarks/data/de-bruijn/debruijn-0006-2-7-128-254.al', '../data/FASP-benchmarks/data/de-bruijn/debruijn-0007-2-8-256-510.al', '../data/FASP-benchmarks/data/de-bruijn/debruijn-0008-3-2-9-24.al', '../data/FASP-benchmarks/data/de-bruijn/debruijn-0009-3-3-27-78.al', '../data/FASP-benchmarks/data/de-bruijn/debruijn-0010-3-4-81-240.al', '../data/FASP-benchmarks/data/de-bruijn/debruijn-0011-3-5-243-726.al', '../data/FASP-benchmarks/data/de-bruijn/debruijn-0012-4-2-16-60.al', '../data/FASP-benchmarks/data/de-bruijn/debruijn-0013-4-3-64-252.al', '../data/FASP-benchmarks/data/de-bruijn/debruijn-0014-4-4-256-1020.al', '../data/FASP-benchmarks/data/de-bruijn/debruijn-0015-5-2-25-120.al', '../data/FASP-benchmarks/data/de-bruijn/debruijn-0016-5-3-125-620.al', '../data/FASP-benchmarks/data/de-bruijn/debruijn-0017-6-2-36-210.al', '../data/FASP-benchmarks/data/de-bruijn/debruijn-0018-6-3-216-1290.al', '../data/FASP-benchmarks/data/de-bruijn/debruijn-0019-7-2-49-336.al', '../data/FASP-benchmarks/data/de-bruijn/debruijn-0020-7-3-343-2394.al', '../data/FASP-benchmarks/data/de-bruijn/debruijn-0021-8-2-64-504.al', '../data/FASP-benchmarks/data/de-bruijn/debruijn-0022-9-2-81-720.al', '../data/FASP-benchmarks/data/de-bruijn/debruijn-0023-10-2-100-990.al']\n"
     ]
    }
   ],
   "source": [
    "graph_type = \"de-bruijn\"\n",
    "examples = glob.glob(f\"../data/FASP-benchmarks/data/{graph_type}/*.al\")\n",
    "examples.sort()\n",
    "print(examples)"
   ]
  },
  {
   "cell_type": "code",
   "execution_count": 37,
   "metadata": {},
   "outputs": [
    {
     "name": "stdout",
     "output_type": "stream",
     "text": [
      "['../data/snap/twitter_combined.txt']\n"
     ]
    }
   ],
   "source": [
    "# graph_name = \"twitter_combined\"\n",
    "# examples = glob.glob(f\"../data/snap/{graph_name}.txt\")\n",
    "# examples.sort()\n",
    "# print(examples)\n",
    "\n",
    "# nisem docakala"
   ]
  },
  {
   "cell_type": "code",
   "execution_count": 41,
   "metadata": {},
   "outputs": [
    {
     "name": "stdout",
     "output_type": "stream",
     "text": [
      "twitter_combined.txt\n",
      "INFO: Reading and adding edges from file ...\n",
      "INFO: Done reading and adding edges from file.\n"
     ]
    },
    {
     "ename": "KeyboardInterrupt",
     "evalue": "",
     "output_type": "error",
     "traceback": [
      "\u001b[0;31m---------------------------------------------------------------------------\u001b[0m",
      "\u001b[0;31mKeyboardInterrupt\u001b[0m                         Traceback (most recent call last)",
      "\u001b[1;32m/home/lema/Documents/aproks/FAS/playground/testing.ipynb Cell 5\u001b[0m line \u001b[0;36m6\n\u001b[1;32m     <a href='vscode-notebook-cell:/home/lema/Documents/aproks/FAS/playground/testing.ipynb#W1sZmlsZQ%3D%3D?line=55'>56</a>\u001b[0m     \u001b[39mreturn\u001b[39;00m our, their\n\u001b[1;32m     <a href='vscode-notebook-cell:/home/lema/Documents/aproks/FAS/playground/testing.ipynb#W1sZmlsZQ%3D%3D?line=58'>59</a>\u001b[0m f \u001b[39m=\u001b[39m \u001b[39mlambda\u001b[39;00m G : get_some_FAS(G, sort_mode\u001b[39m=\u001b[39m\u001b[39m\"\u001b[39m\u001b[39main\u001b[39m\u001b[39m\"\u001b[39m,dir_mode\u001b[39m=\u001b[39m\u001b[39m\"\u001b[39m\u001b[39mf\u001b[39m\u001b[39m\"\u001b[39m,plot\u001b[39m=\u001b[39m\u001b[39mFalse\u001b[39;00m,verbose\u001b[39m=\u001b[39m\u001b[39mFalse\u001b[39;00m)\n\u001b[0;32m---> <a href='vscode-notebook-cell:/home/lema/Documents/aproks/FAS/playground/testing.ipynb#W1sZmlsZQ%3D%3D?line=59'>60</a>\u001b[0m _, _  \u001b[39m=\u001b[39m test(f,examples)\n",
      "\u001b[1;32m/home/lema/Documents/aproks/FAS/playground/testing.ipynb Cell 5\u001b[0m line \u001b[0;36m5\n\u001b[1;32m     <a href='vscode-notebook-cell:/home/lema/Documents/aproks/FAS/playground/testing.ipynb#W1sZmlsZQ%3D%3D?line=47'>48</a>\u001b[0m \u001b[39melse\u001b[39;00m:\n\u001b[1;32m     <a href='vscode-notebook-cell:/home/lema/Documents/aproks/FAS/playground/testing.ipynb#W1sZmlsZQ%3D%3D?line=48'>49</a>\u001b[0m     \u001b[39mraise\u001b[39;00m \u001b[39mException\u001b[39;00m(\u001b[39mf\u001b[39m\u001b[39m\"\u001b[39m\u001b[39mFormat \u001b[39m\u001b[39m'\u001b[39m\u001b[39m.\u001b[39m\u001b[39m{\u001b[39;00mexample\u001b[39m.\u001b[39msplit(\u001b[39m'\u001b[39m\u001b[39m.\u001b[39m\u001b[39m'\u001b[39m)[\u001b[39m-\u001b[39m\u001b[39m1\u001b[39m]\u001b[39m}\u001b[39;00m\u001b[39m'\u001b[39m\u001b[39m not supported.\u001b[39m\u001b[39m\"\u001b[39m)\n\u001b[0;32m---> <a href='vscode-notebook-cell:/home/lema/Documents/aproks/FAS/playground/testing.ipynb#W1sZmlsZQ%3D%3D?line=51'>52</a>\u001b[0m FAS \u001b[39m=\u001b[39m fun(G)\n\u001b[1;32m     <a href='vscode-notebook-cell:/home/lema/Documents/aproks/FAS/playground/testing.ipynb#W1sZmlsZQ%3D%3D?line=52'>53</a>\u001b[0m our\u001b[39m.\u001b[39mappend(FAS)\n\u001b[1;32m     <a href='vscode-notebook-cell:/home/lema/Documents/aproks/FAS/playground/testing.ipynb#W1sZmlsZQ%3D%3D?line=53'>54</a>\u001b[0m \u001b[39mif\u001b[39;00m verbose:\n",
      "\u001b[1;32m/home/lema/Documents/aproks/FAS/playground/testing.ipynb Cell 5\u001b[0m line \u001b[0;36m5\n\u001b[1;32m     <a href='vscode-notebook-cell:/home/lema/Documents/aproks/FAS/playground/testing.ipynb#W1sZmlsZQ%3D%3D?line=54'>55</a>\u001b[0m             \u001b[39mprint\u001b[39m(\u001b[39mlen\u001b[39m(FAS), \u001b[39m\"\u001b[39m\u001b[39m\\n\u001b[39;00m\u001b[39m\"\u001b[39m)\n\u001b[1;32m     <a href='vscode-notebook-cell:/home/lema/Documents/aproks/FAS/playground/testing.ipynb#W1sZmlsZQ%3D%3D?line=55'>56</a>\u001b[0m     \u001b[39mreturn\u001b[39;00m our, their\n\u001b[0;32m---> <a href='vscode-notebook-cell:/home/lema/Documents/aproks/FAS/playground/testing.ipynb#W1sZmlsZQ%3D%3D?line=58'>59</a>\u001b[0m f \u001b[39m=\u001b[39m \u001b[39mlambda\u001b[39;00m G : get_some_FAS(G, sort_mode\u001b[39m=\u001b[39;49m\u001b[39m\"\u001b[39;49m\u001b[39main\u001b[39;49m\u001b[39m\"\u001b[39;49m,dir_mode\u001b[39m=\u001b[39;49m\u001b[39m\"\u001b[39;49m\u001b[39mf\u001b[39;49m\u001b[39m\"\u001b[39;49m,plot\u001b[39m=\u001b[39;49m\u001b[39mFalse\u001b[39;49;00m,verbose\u001b[39m=\u001b[39;49m\u001b[39mFalse\u001b[39;49;00m)\n\u001b[1;32m     <a href='vscode-notebook-cell:/home/lema/Documents/aproks/FAS/playground/testing.ipynb#W1sZmlsZQ%3D%3D?line=59'>60</a>\u001b[0m _, _  \u001b[39m=\u001b[39m test(f,examples)\n",
      "File \u001b[0;32m~/Documents/aproks/FAS/helper_functions.py:64\u001b[0m, in \u001b[0;36mget_some_FAS\u001b[0;34m(G, sort_mode, dir_mode, plot, verbose)\u001b[0m\n\u001b[1;32m     61\u001b[0m FAS \u001b[39m=\u001b[39m []\n\u001b[1;32m     63\u001b[0m \u001b[39mfor\u001b[39;00m scc \u001b[39min\u001b[39;00m nx\u001b[39m.\u001b[39mstrongly_connected_components(G):\n\u001b[0;32m---> 64\u001b[0m     FAS_ \u001b[39m=\u001b[39m FAS_of_scc(G\u001b[39m.\u001b[39;49msubgraph(scc), sort_mode\u001b[39m=\u001b[39;49msort_mode,dir_mode\u001b[39m=\u001b[39;49mdir_mode,plot\u001b[39m=\u001b[39;49mplot,verbose\u001b[39m=\u001b[39;49mverbose)\n\u001b[1;32m     65\u001b[0m     FAS \u001b[39m=\u001b[39m FAS \u001b[39m+\u001b[39m FAS_\n\u001b[1;32m     67\u001b[0m \u001b[39mif\u001b[39;00m verbose:\n",
      "File \u001b[0;32m~/Documents/aproks/FAS/helper_functions.py:19\u001b[0m, in \u001b[0;36mget_some_FAS.<locals>.FAS_of_scc\u001b[0;34m(H, sort_mode, dir_mode, plot, verbose)\u001b[0m\n\u001b[1;32m     16\u001b[0m node_order \u001b[39m=\u001b[39m [x[\u001b[39m0\u001b[39m] \u001b[39mfor\u001b[39;00m x \u001b[39min\u001b[39;00m degs]\n\u001b[1;32m     18\u001b[0m \u001b[39mif\u001b[39;00m dir_mode \u001b[39m==\u001b[39m \u001b[39m\"\u001b[39m\u001b[39mf\u001b[39m\u001b[39m\"\u001b[39m:\n\u001b[0;32m---> 19\u001b[0m     edges_b \u001b[39m=\u001b[39m [(v1,v2) \u001b[39mfor\u001b[39;00m (v1, v2) \u001b[39min\u001b[39;00m H\u001b[39m.\u001b[39medges() \u001b[39mif\u001b[39;00m node_order\u001b[39m.\u001b[39mindex(v1) \u001b[39m>\u001b[39m node_order\u001b[39m.\u001b[39mindex(v2)]\n\u001b[1;32m     20\u001b[0m     outE \u001b[39m=\u001b[39m edges_b\n\u001b[1;32m     21\u001b[0m \u001b[39melif\u001b[39;00m dir_mode \u001b[39m==\u001b[39m \u001b[39m\"\u001b[39m\u001b[39mb\u001b[39m\u001b[39m\"\u001b[39m:\n",
      "File \u001b[0;32m~/Documents/aproks/FAS/helper_functions.py:19\u001b[0m, in \u001b[0;36m<listcomp>\u001b[0;34m(.0)\u001b[0m\n\u001b[1;32m     16\u001b[0m node_order \u001b[39m=\u001b[39m [x[\u001b[39m0\u001b[39m] \u001b[39mfor\u001b[39;00m x \u001b[39min\u001b[39;00m degs]\n\u001b[1;32m     18\u001b[0m \u001b[39mif\u001b[39;00m dir_mode \u001b[39m==\u001b[39m \u001b[39m\"\u001b[39m\u001b[39mf\u001b[39m\u001b[39m\"\u001b[39m:\n\u001b[0;32m---> 19\u001b[0m     edges_b \u001b[39m=\u001b[39m [(v1,v2) \u001b[39mfor\u001b[39;00m (v1, v2) \u001b[39min\u001b[39;00m H\u001b[39m.\u001b[39medges() \u001b[39mif\u001b[39;00m node_order\u001b[39m.\u001b[39;49mindex(v1) \u001b[39m>\u001b[39m node_order\u001b[39m.\u001b[39mindex(v2)]\n\u001b[1;32m     20\u001b[0m     outE \u001b[39m=\u001b[39m edges_b\n\u001b[1;32m     21\u001b[0m \u001b[39melif\u001b[39;00m dir_mode \u001b[39m==\u001b[39m \u001b[39m\"\u001b[39m\u001b[39mb\u001b[39m\u001b[39m\"\u001b[39m:\n",
      "\u001b[0;31mKeyboardInterrupt\u001b[0m: "
     ]
    }
   ],
   "source": [
    "def test(fun,examples,verbose=True):\n",
    "    # fun         function of G ex. lambda G : get_some_FAS(G)\n",
    "    # examples  list of paths to graph representations\n",
    "    \n",
    "    their = []\n",
    "    our = []\n",
    "    for example in examples:\n",
    "        if verbose:\n",
    "            print(example[-20:])\n",
    "            \n",
    "        if example[-3:] == \".al\":\n",
    "            # FASP-benchmarks format (adjency list)\n",
    "            G = nx.read_adjlist(example,create_using=nx.DiGraph)\n",
    "            try:\n",
    "                with open(example[:-3] + \".mfas\",\"r\") as file:\n",
    "                    their_result = file.readlines()\n",
    "                    their.append(their)\n",
    "                    if verbose:\n",
    "                        print(\"Their: \", len(their_result))\n",
    "            except FileNotFoundError:\n",
    "                try:\n",
    "                    with open(example[:-3] + \".mfas\",\"r\") as file:\n",
    "                        their_result = file.readlines()\n",
    "                    their.append(their)\n",
    "                    if verbose:\n",
    "                        print(\"Their: \", len(their_result))\n",
    "                except FileNotFoundError:\n",
    "                    their.append(None)\n",
    "                    if verbose:\n",
    "                        print(\"Their: \", None)\n",
    "        elif \"snap/\" in example:\n",
    "            # nodeId.edges : [...] The 'ego' node does not appear, but it is assumed that they follow every node id that appears in this file.\n",
    "            # adding ego node edges in not needed, as ego node is not part of any strongly connected component anyway\n",
    "            \n",
    "            G = nx.DiGraph()\n",
    "            with open(example, \"r\") as file:\n",
    "                if verbose:\n",
    "                    print(\"INFO: Reading and adding edges from file ...\")\n",
    "                while True:            \n",
    "                    line = file.readline()\n",
    "                    if len(line) == 0:\n",
    "                        break\n",
    "                    v1, v2 = map(int, line.split(\" \"))\n",
    "                    G.add_edge(v1,v2)\n",
    "                if verbose:\n",
    "                    print(\"INFO: Done reading and adding edges from file.\")\n",
    "            \n",
    "        else:\n",
    "            raise Exception(f\"Format '.{example.split('.')[-1]}' not supported.\")\n",
    "        \n",
    "        \n",
    "        FAS = fun(G)\n",
    "        our.append(FAS)\n",
    "        if verbose:\n",
    "            print(len(FAS), \"\\n\")\n",
    "    return our, their\n",
    "\n",
    "\n",
    "f = lambda G : get_some_FAS(G, sort_mode=\"ain\",dir_mode=\"f\",plot=False,verbose=False)\n",
    "_, _  = test(f,examples)\n",
    "        \n",
    "            "
   ]
  }
 ],
 "metadata": {
  "kernelspec": {
   "display_name": "Python 3",
   "language": "python",
   "name": "python3"
  },
  "language_info": {
   "codemirror_mode": {
    "name": "ipython",
    "version": 3
   },
   "file_extension": ".py",
   "mimetype": "text/x-python",
   "name": "python",
   "nbconvert_exporter": "python",
   "pygments_lexer": "ipython3",
   "version": "3.10.12"
  }
 },
 "nbformat": 4,
 "nbformat_minor": 2
}
